{
 "cells": [
  {
   "cell_type": "markdown",
   "metadata": {},
   "source": []
  },
  {
   "cell_type": "markdown",
   "metadata": {},
   "source": [
    "## Initial Setup"
   ]
  },
  {
   "cell_type": "code",
   "execution_count": 1,
   "metadata": {
    "colab": {
     "autoexec": {
      "startup": false,
      "wait_interval": 0
     },
     "height": 321,
     "output_extras": [
      {
       "item_id": 1
      }
     ]
    },
    "colab_type": "code",
    "executionInfo": {
     "elapsed": 2880,
     "status": "error",
     "timestamp": 1505781339378,
     "user": {
      "displayName": "Sara Robinson",
      "photoUrl": "//lh4.googleusercontent.com/-RR9n0dvbwgI/AAAAAAAAAAI/AAAAAAAAMYM/SOr5ZExpvXE/s50-c-k-no/photo.jpg",
      "userId": "112510032804989247452"
     },
     "user_tz": 240
    },
    "id": "783h64rGhA3T",
    "outputId": "d447b2ab-e321-4ee5-abd4-de2c0116302f"
   },
   "outputs": [
    {
     "name": "stderr",
     "output_type": "stream",
     "text": [
      "Using TensorFlow backend.\n"
     ]
    }
   ],
   "source": [
    "from __future__ import absolute_import\n",
    "from __future__ import division\n",
    "from __future__ import print_function\n",
    "\n",
    "import itertools\n",
    "import os\n",
    "import math\n",
    "import string\n",
    "import re\n",
    "import numpy as np\n",
    "import pandas as pd\n",
    "import tensorflow as tf\n",
    "import matplotlib.pyplot as plt\n",
    "import helper\n",
    "import pickle\n",
    "\n",
    "import keras\n",
    "\n",
    "from keras.models import Sequential,load_model\n",
    "from keras.layers import Dense, Dropout, Activation, Flatten\n",
    "from keras.layers import Conv2D, MaxPooling2D,Conv1D,MaxPooling1D\n",
    "\n",
    "layers = keras.layers"
   ]
  },
  {
   "cell_type": "markdown",
   "metadata": {},
   "source": [
    "## Training Parameters\n",
    "\n",
    "We'll set the hyperparameters for training our model. If you understand what they mean, feel free to play around - otherwise, we recommend keeping the defaults for your first run 🙂"
   ]
  },
  {
   "cell_type": "code",
   "execution_count": 2,
   "metadata": {},
   "outputs": [
    {
     "name": "stdout",
     "output_type": "stream",
     "text": [
      "---- We are using CPU now ----\n"
     ]
    }
   ],
   "source": [
    "# Hyperparams if GPU is available\n",
    "if tf.test.is_gpu_available():\n",
    "    print('---- We are using GPU now ----')\n",
    "    # GPU\n",
    "    BATCH_SIZE = 512  # Number of examples used in each iteration\n",
    "    EPOCHS = 80  # Number of passes through entire dataset\n",
    "    \n",
    "# Hyperparams for CPU training\n",
    "else:\n",
    "    print('---- We are using CPU now ----')\n",
    "    # CPU\n",
    "    BATCH_SIZE = 256\n",
    "    EPOCHS = 100"
   ]
  },
  {
   "cell_type": "markdown",
   "metadata": {},
   "source": [
    "## Data\n",
    "\n",
    "The wine reviews dataset is already attached to your workspace (if you want to attach your own data, [check out our docs](https://docs.floydhub.com/guides/workspace/#attaching-floydhub-datasets)).\n",
    "\n",
    "Let's take a look at data."
   ]
  },
  {
   "cell_type": "code",
   "execution_count": 3,
   "metadata": {},
   "outputs": [
    {
     "name": "stdout",
     "output_type": "stream",
     "text": [
      "Size of X :(412038, 240, 1)\n",
      "Size of Y :(412038,)\n"
     ]
    }
   ],
   "source": [
    "data_path = '/floyd/input/gengduoshuju/'  # ADD path/to/dataset\n",
    "Y= pickle.load( open(os.path.join(data_path,'Y.pks'), \"rb\" ) )\n",
    "X= pickle.load( open(os.path.join(data_path,'X.pks'), \"rb\" ) )\n",
    "X = X.reshape((X.shape[0],X.shape[1],1))\n",
    "print(\"Size of X :\" + str(X.shape))\n",
    "print(\"Size of Y :\" + str(Y.shape))\n",
    "X = X.astype(np.float64)\n",
    "X = np.nan_to_num(X)"
   ]
  },
  {
   "cell_type": "markdown",
   "metadata": {},
   "source": [
    "## Data Preprocessing"
   ]
  },
  {
   "cell_type": "code",
   "execution_count": null,
   "metadata": {},
   "outputs": [],
   "source": []
  },
  {
   "cell_type": "code",
   "execution_count": 4,
   "metadata": {},
   "outputs": [
    {
     "name": "stdout",
     "output_type": "stream",
     "text": [
      "0.0\n",
      "331.0\n",
      "number of training examples = 403797\n",
      "number of test examples = 8241\n",
      "X_train shape: (403797, 240, 1)\n",
      "Y_train shape: (403797, 332)\n",
      "X_test shape: (8241, 240, 1)\n",
      "Y_test shape: (8241, 332)\n"
     ]
    }
   ],
   "source": [
    "X_train,  X_test, Y_train_orig,Y_test_orig= helper.divide_data(X,Y)\n",
    "print(Y.min())\n",
    "print(Y.max())\n",
    "num_classes = 332\n",
    "Y_train = keras.utils.to_categorical(Y_train_orig, num_classes)\n",
    "Y_test = keras.utils.to_categorical(Y_test_orig, num_classes)\n",
    "print(\"number of training examples = \" + str(X_train.shape[0]))\n",
    "print(\"number of test examples = \" + str(X_test.shape[0]))\n",
    "print(\"X_train shape: \" + str(X_train.shape))\n",
    "print(\"Y_train shape: \" + str(Y_train.shape))\n",
    "print(\"X_test shape: \" + str(X_test.shape))\n",
    "print(\"Y_test shape: \" + str(Y_test.shape))"
   ]
  },
  {
   "cell_type": "code",
   "execution_count": null,
   "metadata": {},
   "outputs": [],
   "source": []
  },
  {
   "cell_type": "code",
   "execution_count": 5,
   "metadata": {},
   "outputs": [
    {
     "name": "stdout",
     "output_type": "stream",
     "text": [
      "(240, 1)\n"
     ]
    }
   ],
   "source": [
    "input_shape = X_train.shape[1:]\n",
    "print(input_shape)"
   ]
  },
  {
   "cell_type": "markdown",
   "metadata": {},
   "source": [
    "# Model definition"
   ]
  },
  {
   "cell_type": "markdown",
   "metadata": {},
   "source": [
    "The *Tokens per sentence* plot (see above) is useful for setting the `MAX_LEN` training hyperparameter."
   ]
  },
  {
   "cell_type": "code",
   "execution_count": 6,
   "metadata": {},
   "outputs": [],
   "source": [
    "# ===================================================================================\n",
    "# Load the model what has already ben trained\n",
    "# ===================================================================================\n",
    "\n",
    "model = load_model(r\"floyd_model_xxl_data_ver9.h5\")"
   ]
  },
  {
   "cell_type": "markdown",
   "metadata": {},
   "source": [
    "# Model Training"
   ]
  },
  {
   "cell_type": "code",
   "execution_count": 7,
   "metadata": {},
   "outputs": [
    {
     "name": "stdout",
     "output_type": "stream",
     "text": [
      "_________________________________________________________________\n",
      "Layer (type)                 Output Shape              Param #   \n",
      "=================================================================\n",
      "conv1d_1 (Conv1D)            (None, 240, 16)           80        \n",
      "_________________________________________________________________\n",
      "activation_1 (Activation)    (None, 240, 16)           0         \n",
      "_________________________________________________________________\n",
      "max_pooling1d_1 (MaxPooling1 (None, 120, 16)           0         \n",
      "_________________________________________________________________\n",
      "conv1d_2 (Conv1D)            (None, 120, 32)           2080      \n",
      "_________________________________________________________________\n",
      "activation_2 (Activation)    (None, 120, 32)           0         \n",
      "_________________________________________________________________\n",
      "max_pooling1d_2 (MaxPooling1 (None, 60, 32)            0         \n",
      "_________________________________________________________________\n",
      "conv1d_3 (Conv1D)            (None, 60, 64)            8256      \n",
      "_________________________________________________________________\n",
      "activation_3 (Activation)    (None, 60, 64)            0         \n",
      "_________________________________________________________________\n",
      "max_pooling1d_3 (MaxPooling1 (None, 30, 64)            0         \n",
      "_________________________________________________________________\n",
      "conv1d_4 (Conv1D)            (None, 30, 64)            16448     \n",
      "_________________________________________________________________\n",
      "activation_4 (Activation)    (None, 30, 64)            0         \n",
      "_________________________________________________________________\n",
      "max_pooling1d_4 (MaxPooling1 (None, 15, 64)            0         \n",
      "_________________________________________________________________\n",
      "conv1d_5 (Conv1D)            (None, 15, 32)            8224      \n",
      "_________________________________________________________________\n",
      "activation_5 (Activation)    (None, 15, 32)            0         \n",
      "_________________________________________________________________\n",
      "max_pooling1d_5 (MaxPooling1 (None, 8, 32)             0         \n",
      "_________________________________________________________________\n",
      "flatten_1 (Flatten)          (None, 256)               0         \n",
      "_________________________________________________________________\n",
      "dense_1 (Dense)              (None, 332)               85324     \n",
      "_________________________________________________________________\n",
      "activation_6 (Activation)    (None, 332)               0         \n",
      "=================================================================\n",
      "Total params: 120,412\n",
      "Trainable params: 120,412\n",
      "Non-trainable params: 0\n",
      "_________________________________________________________________\n",
      "Train on 403797 samples, validate on 8241 samples\n",
      "Epoch 1/100\n",
      "403797/403797 [==============================] - 81s 202us/step - loss: 0.1092 - acc: 0.9587 - val_loss: 0.1216 - val_acc: 0.9532\n",
      "Epoch 2/100\n",
      "403797/403797 [==============================] - 80s 197us/step - loss: 0.1082 - acc: 0.9586 - val_loss: 0.1332 - val_acc: 0.9517\n",
      "Epoch 3/100\n",
      "403797/403797 [==============================] - 80s 197us/step - loss: 0.1102 - acc: 0.9579 - val_loss: 0.1249 - val_acc: 0.9534\n",
      "Epoch 4/100\n",
      "403797/403797 [==============================] - 80s 197us/step - loss: 0.1090 - acc: 0.9583 - val_loss: 0.1227 - val_acc: 0.9529\n",
      "Epoch 5/100\n",
      "403797/403797 [==============================] - 79s 196us/step - loss: 0.1078 - acc: 0.9592 - val_loss: 0.1339 - val_acc: 0.9518\n",
      "Epoch 6/100\n",
      "403797/403797 [==============================] - 79s 196us/step - loss: 0.1096 - acc: 0.9585 - val_loss: 0.1375 - val_acc: 0.9498\n",
      "Epoch 7/100\n",
      "403797/403797 [==============================] - 79s 196us/step - loss: 0.1085 - acc: 0.9586 - val_loss: 0.1353 - val_acc: 0.9483\n",
      "Epoch 8/100\n",
      "403797/403797 [==============================] - 79s 196us/step - loss: 0.1095 - acc: 0.9585 - val_loss: 0.1266 - val_acc: 0.9544\n",
      "Epoch 9/100\n",
      "403797/403797 [==============================] - 79s 197us/step - loss: 0.1103 - acc: 0.9579 - val_loss: 0.1205 - val_acc: 0.9562\n",
      "Epoch 10/100\n",
      "403797/403797 [==============================] - 80s 197us/step - loss: 0.1091 - acc: 0.9583 - val_loss: 0.1293 - val_acc: 0.9517\n",
      "Epoch 11/100\n",
      "403797/403797 [==============================] - 80s 197us/step - loss: 0.1075 - acc: 0.9588 - val_loss: 0.1306 - val_acc: 0.9512\n",
      "Epoch 12/100\n",
      "403797/403797 [==============================] - 80s 197us/step - loss: 0.1075 - acc: 0.9591 - val_loss: 0.1322 - val_acc: 0.9499\n",
      "Epoch 13/100\n",
      "403797/403797 [==============================] - 79s 196us/step - loss: 0.1081 - acc: 0.9586 - val_loss: 0.1312 - val_acc: 0.9532\n",
      "Epoch 14/100\n",
      "403797/403797 [==============================] - 79s 196us/step - loss: 0.1075 - acc: 0.9592 - val_loss: 0.1250 - val_acc: 0.9547\n",
      "Epoch 15/100\n",
      "403797/403797 [==============================] - 79s 196us/step - loss: 0.1089 - acc: 0.9588 - val_loss: 0.1265 - val_acc: 0.9543\n",
      "Epoch 16/100\n",
      "403797/403797 [==============================] - 79s 196us/step - loss: 0.1054 - acc: 0.9599 - val_loss: 0.1437 - val_acc: 0.9484\n",
      "Epoch 17/100\n",
      "403797/403797 [==============================] - 79s 196us/step - loss: 0.1069 - acc: 0.9593 - val_loss: 0.1295 - val_acc: 0.9504\n",
      "Epoch 18/100\n",
      "403797/403797 [==============================] - 79s 196us/step - loss: 0.1078 - acc: 0.9591 - val_loss: 0.1273 - val_acc: 0.9539\n",
      "Epoch 19/100\n",
      "403797/403797 [==============================] - 79s 195us/step - loss: 0.1067 - acc: 0.9592 - val_loss: 0.1246 - val_acc: 0.9555\n",
      "Epoch 20/100\n",
      "403797/403797 [==============================] - 79s 196us/step - loss: 0.1071 - acc: 0.9592 - val_loss: 0.1208 - val_acc: 0.9553\n",
      "Epoch 21/100\n",
      "403797/403797 [==============================] - 79s 197us/step - loss: 0.1076 - acc: 0.9592 - val_loss: 0.1318 - val_acc: 0.9521\n",
      "Epoch 22/100\n",
      "403797/403797 [==============================] - 80s 197us/step - loss: 0.1077 - acc: 0.9590 - val_loss: 0.1239 - val_acc: 0.9550\n",
      "Epoch 23/100\n",
      "403797/403797 [==============================] - 79s 196us/step - loss: 0.1033 - acc: 0.9604 - val_loss: 0.1187 - val_acc: 0.9560\n",
      "Epoch 24/100\n",
      "403797/403797 [==============================] - 79s 196us/step - loss: 0.1062 - acc: 0.9595 - val_loss: 0.1288 - val_acc: 0.9553\n",
      "Epoch 25/100\n",
      "403797/403797 [==============================] - 79s 196us/step - loss: 0.1070 - acc: 0.9594 - val_loss: 0.1314 - val_acc: 0.9544\n",
      "Epoch 26/100\n",
      "403797/403797 [==============================] - 79s 195us/step - loss: 0.1046 - acc: 0.9601 - val_loss: 0.1240 - val_acc: 0.9543\n",
      "Epoch 27/100\n",
      "403797/403797 [==============================] - 79s 196us/step - loss: 0.1061 - acc: 0.9595 - val_loss: 0.1158 - val_acc: 0.9532\n",
      "Epoch 28/100\n",
      "403797/403797 [==============================] - 79s 196us/step - loss: 0.1057 - acc: 0.9596 - val_loss: 0.1262 - val_acc: 0.9538\n",
      "Epoch 29/100\n",
      "403797/403797 [==============================] - 79s 195us/step - loss: 0.1052 - acc: 0.9600 - val_loss: 0.1264 - val_acc: 0.9541\n",
      "Epoch 30/100\n",
      "403797/403797 [==============================] - 79s 196us/step - loss: 0.1054 - acc: 0.9596 - val_loss: 0.1238 - val_acc: 0.9540\n",
      "Epoch 31/100\n",
      "403797/403797 [==============================] - 79s 197us/step - loss: 0.1051 - acc: 0.9596 - val_loss: 0.1474 - val_acc: 0.9469\n",
      "Epoch 32/100\n",
      "403797/403797 [==============================] - 79s 196us/step - loss: 0.1050 - acc: 0.9601 - val_loss: 0.1335 - val_acc: 0.9519\n",
      "Epoch 33/100\n",
      "403797/403797 [==============================] - 79s 197us/step - loss: 0.1064 - acc: 0.9594 - val_loss: 0.1353 - val_acc: 0.9512\n",
      "Epoch 34/100\n",
      "403797/403797 [==============================] - 79s 195us/step - loss: 0.1036 - acc: 0.9604 - val_loss: 0.1233 - val_acc: 0.9532\n",
      "Epoch 35/100\n",
      "403797/403797 [==============================] - 79s 196us/step - loss: 0.1037 - acc: 0.9604 - val_loss: 0.1335 - val_acc: 0.9519\n",
      "Epoch 36/100\n",
      "403797/403797 [==============================] - 79s 196us/step - loss: 0.1045 - acc: 0.9601 - val_loss: 0.1258 - val_acc: 0.9530\n",
      "Epoch 37/100\n",
      "403797/403797 [==============================] - 79s 195us/step - loss: 0.1042 - acc: 0.9599 - val_loss: 0.1324 - val_acc: 0.9516\n",
      "Epoch 38/100\n",
      "403797/403797 [==============================] - 79s 195us/step - loss: 0.1055 - acc: 0.9599 - val_loss: 0.1211 - val_acc: 0.9562\n",
      "Epoch 39/100\n",
      "403797/403797 [==============================] - 79s 196us/step - loss: 0.1041 - acc: 0.9601 - val_loss: 0.1253 - val_acc: 0.9538\n",
      "Epoch 40/100\n",
      "403797/403797 [==============================] - 79s 196us/step - loss: 0.1032 - acc: 0.9604 - val_loss: 0.1104 - val_acc: 0.9591\n",
      "Epoch 41/100\n",
      "403797/403797 [==============================] - 79s 196us/step - loss: 0.1042 - acc: 0.9600 - val_loss: 0.1248 - val_acc: 0.9526\n",
      "Epoch 42/100\n",
      "403797/403797 [==============================] - 79s 196us/step - loss: 0.1027 - acc: 0.9608 - val_loss: 0.1250 - val_acc: 0.9529\n",
      "Epoch 43/100\n",
      "403797/403797 [==============================] - 79s 196us/step - loss: 0.1047 - acc: 0.9599 - val_loss: 0.1090 - val_acc: 0.9586\n",
      "Epoch 44/100\n",
      "403797/403797 [==============================] - 79s 196us/step - loss: 0.1037 - acc: 0.9606 - val_loss: 0.1255 - val_acc: 0.9529\n",
      "Epoch 45/100\n",
      "403797/403797 [==============================] - 79s 196us/step - loss: 0.1016 - acc: 0.9609 - val_loss: 0.1301 - val_acc: 0.9536\n",
      "Epoch 46/100\n",
      "403797/403797 [==============================] - 79s 196us/step - loss: 0.1030 - acc: 0.9607 - val_loss: 0.1529 - val_acc: 0.9460\n",
      "Epoch 47/100\n",
      "403797/403797 [==============================] - 79s 196us/step - loss: 0.1051 - acc: 0.9600 - val_loss: 0.1223 - val_acc: 0.9579\n",
      "Epoch 48/100\n",
      "403797/403797 [==============================] - 79s 197us/step - loss: 0.1027 - acc: 0.9609 - val_loss: 0.1316 - val_acc: 0.9529\n",
      "Epoch 49/100\n",
      "403797/403797 [==============================] - 79s 196us/step - loss: 0.1026 - acc: 0.9602 - val_loss: 0.1349 - val_acc: 0.9521\n",
      "Epoch 50/100\n",
      "403797/403797 [==============================] - 80s 197us/step - loss: 0.0994 - acc: 0.9618 - val_loss: 0.1210 - val_acc: 0.9577\n",
      "Epoch 85/100\n",
      "403797/403797 [==============================] - 78s 194us/step - loss: 0.0979 - acc: 0.9622 - val_loss: 0.1167 - val_acc: 0.9566\n",
      "Epoch 86/100\n",
      "403797/403797 [==============================] - 79s 194us/step - loss: 0.0981 - acc: 0.9627 - val_loss: 0.1142 - val_acc: 0.9581\n",
      "Epoch 87/100\n",
      "321280/403797 [======================>.......] - ETA: 15s - loss: 0.1001 - acc: 0.9618"
     ]
    },
    {
     "name": "stderr",
     "output_type": "stream",
     "text": [
      "IOPub message rate exceeded.\n",
      "The notebook server will temporarily stop sending output\n",
      "to the client in order to avoid crashing it.\n",
      "To change this limit, set the config variable\n",
      "`--NotebookApp.iopub_msg_rate_limit`.\n",
      "\n",
      "Current values:\n",
      "NotebookApp.iopub_msg_rate_limit=1000.0 (msgs/sec)\n",
      "NotebookApp.rate_limit_window=3.0 (secs)\n",
      "\n"
     ]
    },
    {
     "name": "stdout",
     "output_type": "stream",
     "text": [
      "403797/403797 [==============================] - 78s 193us/step - loss: 0.0962 - acc: 0.9630 - val_loss: 0.1186 - val_acc: 0.9583\n",
      "Epoch 89/100\n",
      "403797/403797 [==============================] - 78s 193us/step - loss: 0.0998 - acc: 0.9619 - val_loss: 0.1169 - val_acc: 0.9553\n",
      "Epoch 90/100\n",
      "403797/403797 [==============================] - 80s 198us/step - loss: 0.0952 - acc: 0.9632 - val_loss: 0.1269 - val_acc: 0.9522\n",
      "Epoch 91/100\n",
      "403797/403797 [==============================] - 79s 195us/step - loss: 0.0978 - acc: 0.9624 - val_loss: 0.1190 - val_acc: 0.9546\n",
      "Epoch 92/100\n",
      "403797/403797 [==============================] - 78s 194us/step - loss: 0.0981 - acc: 0.9627 - val_loss: 0.1126 - val_acc: 0.9579\n",
      "Epoch 93/100\n",
      "403797/403797 [==============================] - 78s 194us/step - loss: 0.0968 - acc: 0.9629 - val_loss: 0.1326 - val_acc: 0.9505\n",
      "Epoch 94/100\n",
      "162816/403797 [===========>..................] - ETA: 46s - loss: 0.0932 - acc: 0.9638"
     ]
    },
    {
     "name": "stderr",
     "output_type": "stream",
     "text": [
      "IOPub message rate exceeded.\n",
      "The notebook server will temporarily stop sending output\n",
      "to the client in order to avoid crashing it.\n",
      "To change this limit, set the config variable\n",
      "`--NotebookApp.iopub_msg_rate_limit`.\n",
      "\n",
      "Current values:\n",
      "NotebookApp.iopub_msg_rate_limit=1000.0 (msgs/sec)\n",
      "NotebookApp.rate_limit_window=3.0 (secs)\n",
      "\n"
     ]
    },
    {
     "name": "stdout",
     "output_type": "stream",
     "text": [
      "403797/403797 [==============================] - 79s 195us/step - loss: 0.0980 - acc: 0.9623 - val_loss: 0.1088 - val_acc: 0.9597\n",
      "Epoch 97/100\n",
      "403797/403797 [==============================] - 79s 196us/step - loss: 0.0978 - acc: 0.9625 - val_loss: 0.2648 - val_acc: 0.9182\n",
      "Epoch 98/100\n",
      "403797/403797 [==============================] - 79s 195us/step - loss: 0.1004 - acc: 0.9618 - val_loss: 0.1083 - val_acc: 0.9620\n",
      "Epoch 99/100\n",
      " 64256/403797 [===>..........................] - ETA: 1:06 - loss: 0.0898 - acc: 0.9659"
     ]
    },
    {
     "name": "stderr",
     "output_type": "stream",
     "text": [
      "IOPub message rate exceeded.\n",
      "The notebook server will temporarily stop sending output\n",
      "to the client in order to avoid crashing it.\n",
      "To change this limit, set the config variable\n",
      "`--NotebookApp.iopub_msg_rate_limit`.\n",
      "\n",
      "Current values:\n",
      "NotebookApp.iopub_msg_rate_limit=1000.0 (msgs/sec)\n",
      "NotebookApp.rate_limit_window=3.0 (secs)\n",
      "\n"
     ]
    }
   ],
   "source": [
    "opt = keras.optimizers.Adam(lr=0.0001, beta_1=0.9, beta_2=0.999, epsilon=None, decay=0.0, amsgrad=False)\n",
    "model.compile(loss='categorical_crossentropy',\n",
    "              optimizer=opt,\n",
    "              metrics=['accuracy'])\n",
    "\n",
    "model.summary()\n",
    "X_train = X_train.astype('float32')\n",
    "X_test = X_test.astype('float32')\n",
    "\n",
    "model.fit(X_train, Y_train,\n",
    "              batch_size=BATCH_SIZE,\n",
    "              epochs=EPOCHS,\n",
    "              validation_data=(X_test, Y_test),\n",
    "              shuffle=True)\n",
    "\n",
    "model.save(r\"floyd_model_xxl_data_ver10.h5\")\n",
    "print('Training is done!')"
   ]
  }
 ],
 "metadata": {
  "colab": {
   "default_view": {},
   "name": "keras-wide-deep.ipynb",
   "provenance": [],
   "version": "0.3.2",
   "views": {}
  },
  "kernelspec": {
   "display_name": "Python 3",
   "language": "python",
   "name": "python3"
  },
  "language_info": {
   "codemirror_mode": {
    "name": "ipython",
    "version": 3
   },
   "file_extension": ".py",
   "mimetype": "text/x-python",
   "name": "python",
   "nbconvert_exporter": "python",
   "pygments_lexer": "ipython3",
   "version": "3.6.5"
  }
 },
 "nbformat": 4,
 "nbformat_minor": 2
}
