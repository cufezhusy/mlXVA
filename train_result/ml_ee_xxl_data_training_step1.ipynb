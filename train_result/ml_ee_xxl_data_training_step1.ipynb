{
 "cells": [
  {
   "cell_type": "markdown",
   "metadata": {},
   "source": []
  },
  {
   "cell_type": "markdown",
   "metadata": {},
   "source": [
    "## Initial Setup"
   ]
  },
  {
   "cell_type": "code",
   "execution_count": 1,
   "metadata": {
    "colab": {
     "autoexec": {
      "startup": false,
      "wait_interval": 0.0
     },
     "height": 321.0,
     "output_extras": [
      {
       "item_id": 1.0
      }
     ]
    },
    "colab_type": "code",
    "executionInfo": {
     "elapsed": 2880.0,
     "status": "error",
     "timestamp": 1.505781339378E12,
     "user": {
      "displayName": "Sara Robinson",
      "photoUrl": "//lh4.googleusercontent.com/-RR9n0dvbwgI/AAAAAAAAAAI/AAAAAAAAMYM/SOr5ZExpvXE/s50-c-k-no/photo.jpg",
      "userId": "112510032804989247452"
     },
     "user_tz": 240.0
    },
    "id": "783h64rGhA3T",
    "outputId": "d447b2ab-e321-4ee5-abd4-de2c0116302f"
   },
   "outputs": [
    {
     "name": "stderr",
     "output_type": "stream",
     "text": [
      "Using TensorFlow backend.\n"
     ]
    }
   ],
   "source": [
    "from __future__ import absolute_import\n",
    "from __future__ import division\n",
    "from __future__ import print_function\n",
    "\n",
    "import itertools\n",
    "import os\n",
    "import math\n",
    "import string\n",
    "import re\n",
    "import numpy as np\n",
    "import pandas as pd\n",
    "import tensorflow as tf\n",
    "import matplotlib.pyplot as plt\n",
    "import helper\n",
    "import pickle\n",
    "\n",
    "import keras\n",
    "from keras.models import Sequential\n",
    "from keras.layers import Dense, Dropout, Activation, Flatten\n",
    "from keras.layers import Conv2D, MaxPooling2D,Conv1D,MaxPooling1D\n",
    "\n",
    "layers = keras.layers"
   ]
  },
  {
   "cell_type": "markdown",
   "metadata": {},
   "source": [
    "## Training Parameters\n",
    "\n",
    "We'll set the hyperparameters for training our model. If you understand what they mean, feel free to play around - otherwise, we recommend keeping the defaults for your first run 🙂"
   ]
  },
  {
   "cell_type": "code",
   "execution_count": 2,
   "metadata": {},
   "outputs": [
    {
     "name": "stdout",
     "output_type": "stream",
     "text": [
      "---- We are using GPU now ----\n"
     ]
    }
   ],
   "source": [
    "# Hyperparams if GPU is available\n",
    "if tf.test.is_gpu_available():\n",
    "    print('---- We are using GPU now ----')\n",
    "    # GPU\n",
    "    BATCH_SIZE = 512  # Number of examples used in each iteration\n",
    "    EPOCHS = 80  # Number of passes through entire dataset\n",
    "    \n",
    "# Hyperparams for CPU training\n",
    "else:\n",
    "    print('---- We are using CPU now ----')\n",
    "    # CPU\n",
    "    BATCH_SIZE = 256\n",
    "    EPOCHS = 40"
   ]
  },
  {
   "cell_type": "markdown",
   "metadata": {},
   "source": [
    "## Data\n",
    "\n",
    "The wine reviews dataset is already attached to your workspace (if you want to attach your own data, [check out our docs](https://docs.floydhub.com/guides/workspace/#attaching-floydhub-datasets)).\n",
    "\n",
    "Let's take a look at data."
   ]
  },
  {
   "cell_type": "code",
   "execution_count": 3,
   "metadata": {},
   "outputs": [
    {
     "name": "stdout",
     "output_type": "stream",
     "text": [
      "Size of X :(412038, 240, 1)\n",
      "Size of Y :(412038,)\n"
     ]
    }
   ],
   "source": [
    "data_path = '/floyd/input/gengduoshuju/'  # ADD path/to/dataset\n",
    "Y= pickle.load( open(os.path.join(data_path,'Y.pks'), \"rb\" ) )\n",
    "X= pickle.load( open(os.path.join(data_path,'X.pks'), \"rb\" ) )\n",
    "X = X.reshape((X.shape[0],X.shape[1],1))\n",
    "print(\"Size of X :\" + str(X.shape))\n",
    "print(\"Size of Y :\" + str(Y.shape))\n",
    "X = X.astype(np.float64)\n",
    "X = np.nan_to_num(X)"
   ]
  },
  {
   "cell_type": "markdown",
   "metadata": {},
   "source": [
    "## Data Preprocessing"
   ]
  },
  {
   "cell_type": "code",
   "execution_count": 4,
   "metadata": {},
   "outputs": [],
   "source": []
  },
  {
   "cell_type": "code",
   "execution_count": 4,
   "metadata": {},
   "outputs": [
    {
     "name": "stdout",
     "output_type": "stream",
     "text": [
      "0.0\n",
      "331.0\n",
      "number of training examples = 403797\n",
      "number of test examples = 8241\n",
      "X_train shape: (403797, 240, 1)\n",
      "Y_train shape: (403797, 332)\n",
      "X_test shape: (8241, 240, 1)\n",
      "Y_test shape: (8241, 332)\n"
     ]
    }
   ],
   "source": [
    "X_train,  X_test, Y_train_orig,Y_test_orig= helper.divide_data(X,Y)\n",
    "print(Y.min())\n",
    "print(Y.max())\n",
    "num_classes = 332\n",
    "Y_train = keras.utils.to_categorical(Y_train_orig, num_classes)\n",
    "Y_test = keras.utils.to_categorical(Y_test_orig, num_classes)\n",
    "print(\"number of training examples = \" + str(X_train.shape[0]))\n",
    "print(\"number of test examples = \" + str(X_test.shape[0]))\n",
    "print(\"X_train shape: \" + str(X_train.shape))\n",
    "print(\"Y_train shape: \" + str(Y_train.shape))\n",
    "print(\"X_test shape: \" + str(X_test.shape))\n",
    "print(\"Y_test shape: \" + str(Y_test.shape))"
   ]
  },
  {
   "cell_type": "code",
   "execution_count": 6,
   "metadata": {},
   "outputs": [],
   "source": []
  },
  {
   "cell_type": "code",
   "execution_count": 5,
   "metadata": {},
   "outputs": [
    {
     "name": "stdout",
     "output_type": "stream",
     "text": [
      "(240, 1)\n"
     ]
    }
   ],
   "source": [
    "input_shape = X_train.shape[1:]\n",
    "print(input_shape)"
   ]
  },
  {
   "cell_type": "markdown",
   "metadata": {},
   "source": [
    "# Model definition"
   ]
  },
  {
   "cell_type": "markdown",
   "metadata": {},
   "source": [
    "The *Tokens per sentence* plot (see above) is useful for setting the `MAX_LEN` training hyperparameter."
   ]
  },
  {
   "cell_type": "code",
   "execution_count": 6,
   "metadata": {},
   "outputs": [
    {
     "name": "stdout",
     "output_type": "stream",
     "text": [
      "(None, 240, 16)\n",
      "(None, 240, 16)\n",
      "(None, 120, 16)\n",
      "(None, 120, 32)\n",
      "(None, 60, 32)\n",
      "(None, 60, 64)\n",
      "(None, 30, 64)\n",
      "(None, 15, 32)\n",
      "(None, 8, 32)\n"
     ]
    }
   ],
   "source": [
    "# ===================================================================================\n",
    "# Model definition part\n",
    "# ===================================================================================\n",
    "\n",
    "model = Sequential()\n",
    "model.add(Conv1D(16, 4,padding='same',input_shape=X_train.shape[1:]))\n",
    "print(model.output_shape)\n",
    "model.add(Activation('relu'))\n",
    "print(model.output_shape)\n",
    "model.add(MaxPooling1D(2,padding='same'))\n",
    "print(model.output_shape)\n",
    "model.add(Conv1D(32, 4,padding='same'))\n",
    "print(model.output_shape)\n",
    "model.add(Activation('relu'))\n",
    "model.add(MaxPooling1D(2,padding='same'))\n",
    "print(model.output_shape)\n",
    "model.add(Conv1D(64, 4,padding='same'))\n",
    "print(model.output_shape)\n",
    "model.add(Activation('relu'))\n",
    "model.add(MaxPooling1D(2,padding='same'))\n",
    "model.add(Conv1D(64, 4,padding='same'))\n",
    "print(model.output_shape)\n",
    "model.add(Activation('relu'))\n",
    "model.add(MaxPooling1D(2,padding='same'))\n",
    "model.add(Conv1D(32, 4,padding='same'))\n",
    "print(model.output_shape)\n",
    "model.add(Activation('relu'))\n",
    "model.add(MaxPooling1D(2,padding='same'))\n",
    "print(model.output_shape)\n",
    "model.add(Flatten())\n",
    "model.add(Dense(num_classes))\n",
    "model.add(Activation('softmax'))"
   ]
  },
  {
   "cell_type": "markdown",
   "metadata": {},
   "source": [
    "# Model Training"
   ]
  },
  {
   "cell_type": "code",
   "execution_count": 8,
   "metadata": {},
   "outputs": [
    {
     "name": "stdout",
     "output_type": "stream",
     "text": [
      "_________________________________________________________________\n",
      "Layer (type)                 Output Shape              Param #   \n",
      "=================================================================\n",
      "conv1d_1 (Conv1D)            (None, 240, 16)           80        \n",
      "_________________________________________________________________\n",
      "activation_1 (Activation)    (None, 240, 16)           0         \n",
      "_________________________________________________________________\n",
      "max_pooling1d_1 (MaxPooling1 (None, 120, 16)           0         \n",
      "_________________________________________________________________\n",
      "conv1d_2 (Conv1D)            (None, 120, 32)           2080      \n",
      "_________________________________________________________________\n",
      "activation_2 (Activation)    (None, 120, 32)           0         \n",
      "_________________________________________________________________\n",
      "max_pooling1d_2 (MaxPooling1 (None, 60, 32)            0         \n",
      "_________________________________________________________________\n",
      "conv1d_3 (Conv1D)            (None, 60, 64)            8256      \n",
      "_________________________________________________________________\n",
      "activation_3 (Activation)    (None, 60, 64)            0         \n",
      "_________________________________________________________________\n",
      "max_pooling1d_3 (MaxPooling1 (None, 30, 64)            0         \n",
      "_________________________________________________________________\n",
      "conv1d_4 (Conv1D)            (None, 30, 64)            16448     \n",
      "_________________________________________________________________\n",
      "activation_4 (Activation)    (None, 30, 64)            0         \n",
      "_________________________________________________________________\n",
      "max_pooling1d_4 (MaxPooling1 (None, 15, 64)            0         \n",
      "_________________________________________________________________\n",
      "conv1d_5 (Conv1D)            (None, 15, 32)            8224      \n",
      "_________________________________________________________________\n",
      "activation_5 (Activation)    (None, 15, 32)            0         \n",
      "_________________________________________________________________\n",
      "max_pooling1d_5 (MaxPooling1 (None, 8, 32)             0         \n",
      "_________________________________________________________________\n",
      "flatten_1 (Flatten)          (None, 256)               0         \n",
      "_________________________________________________________________\n",
      "dense_1 (Dense)              (None, 332)               85324     \n",
      "_________________________________________________________________\n",
      "activation_6 (Activation)    (None, 332)               0         \n",
      "=================================================================\n",
      "Total params: 120,412\n",
      "Trainable params: 120,412\n",
      "Non-trainable params: 0\n",
      "_________________________________________________________________\n",
      "Train on 403797 samples, validate on 8241 samples\n",
      "Epoch 1/80\n",
      "403797/403797 [==============================] - 17s 42us/step - loss: 4.1732 - acc: 0.1182 - val_loss: 4.0737 - val_acc: 0.1321\n",
      "Epoch 2/80\n",
      "403797/403797 [==============================] - 16s 41us/step - loss: 3.9154 - acc: 0.1470 - val_loss: 3.8252 - val_acc: 0.1621\n",
      "Epoch 3/80\n",
      "403797/403797 [==============================] - 16s 41us/step - loss: 3.6728 - acc: 0.1756 - val_loss: 3.5856 - val_acc: 0.1932\n",
      "Epoch 4/80\n",
      "403797/403797 [==============================] - 16s 41us/step - loss: 3.4449 - acc: 0.2038 - val_loss: 3.3715 - val_acc: 0.2141\n",
      "Epoch 5/80\n",
      "403797/403797 [==============================] - 16s 41us/step - loss: 3.2451 - acc: 0.2298 - val_loss: 3.1837 - val_acc: 0.2332\n",
      "Epoch 6/80\n",
      "403797/403797 [==============================] - 17s 41us/step - loss: 3.0684 - acc: 0.2529 - val_loss: 3.0134 - val_acc: 0.2594\n",
      "Epoch 7/80\n",
      "403797/403797 [==============================] - 17s 41us/step - loss: 2.9127 - acc: 0.2761 - val_loss: 2.8708 - val_acc: 0.2827\n",
      "Epoch 8/80\n",
      "403797/403797 [==============================] - 16s 41us/step - loss: 2.7760 - acc: 0.2966 - val_loss: 2.7330 - val_acc: 0.3085\n",
      "Epoch 9/80\n",
      "403797/403797 [==============================] - 16s 41us/step - loss: 2.6530 - acc: 0.3167 - val_loss: 2.6155 - val_acc: 0.3212\n",
      "Epoch 10/80\n",
      "403797/403797 [==============================] - 16s 41us/step - loss: 2.5448 - acc: 0.3347 - val_loss: 2.5285 - val_acc: 0.3333\n",
      "Epoch 11/80\n",
      "403797/403797 [==============================] - 17s 41us/step - loss: 2.4465 - acc: 0.3509 - val_loss: 2.4270 - val_acc: 0.3473\n",
      "Epoch 12/80\n",
      "403797/403797 [==============================] - 16s 41us/step - loss: 2.3530 - acc: 0.3670 - val_loss: 2.3353 - val_acc: 0.3722\n",
      "Epoch 13/80\n",
      "403797/403797 [==============================] - 16s 41us/step - loss: 2.2729 - acc: 0.3812 - val_loss: 2.2646 - val_acc: 0.3841\n",
      "Epoch 14/80\n",
      "403797/403797 [==============================] - 16s 41us/step - loss: 2.2007 - acc: 0.3951 - val_loss: 2.1933 - val_acc: 0.3918\n",
      "Epoch 15/80\n",
      "403797/403797 [==============================] - 17s 41us/step - loss: 2.1253 - acc: 0.4091 - val_loss: 2.1249 - val_acc: 0.4063\n",
      "Epoch 16/80\n",
      "403797/403797 [==============================] - 16s 41us/step - loss: 2.0640 - acc: 0.4207 - val_loss: 2.0550 - val_acc: 0.4190\n",
      "Epoch 17/80\n",
      "403797/403797 [==============================] - 16s 41us/step - loss: 2.0008 - acc: 0.4329 - val_loss: 1.9919 - val_acc: 0.4353\n",
      "Epoch 18/80\n",
      "403797/403797 [==============================] - 16s 41us/step - loss: 1.9448 - acc: 0.4446 - val_loss: 1.9357 - val_acc: 0.4470\n",
      "Epoch 19/80\n",
      "403797/403797 [==============================] - 16s 41us/step - loss: 1.8930 - acc: 0.4551 - val_loss: 1.9000 - val_acc: 0.4572\n",
      "Epoch 20/80\n",
      "403797/403797 [==============================] - 16s 41us/step - loss: 1.8414 - acc: 0.4663 - val_loss: 1.8658 - val_acc: 0.4532\n",
      "Epoch 21/80\n",
      "403797/403797 [==============================] - 16s 41us/step - loss: 1.7931 - acc: 0.4760 - val_loss: 1.8128 - val_acc: 0.4774\n",
      "Epoch 22/80\n",
      "403797/403797 [==============================] - 16s 40us/step - loss: 1.7497 - acc: 0.4848 - val_loss: 1.7733 - val_acc: 0.4816\n",
      "Epoch 23/80\n",
      "403797/403797 [==============================] - 16s 41us/step - loss: 1.7072 - acc: 0.4952 - val_loss: 1.6974 - val_acc: 0.5022\n",
      "Epoch 24/80\n",
      "403797/403797 [==============================] - 16s 41us/step - loss: 1.6672 - acc: 0.5033 - val_loss: 1.6842 - val_acc: 0.4986\n",
      "Epoch 25/80\n",
      "403797/403797 [==============================] - 16s 41us/step - loss: 1.6285 - acc: 0.5122 - val_loss: 1.6375 - val_acc: 0.5084\n",
      "Epoch 26/80\n",
      "403797/403797 [==============================] - 16s 41us/step - loss: 1.5905 - acc: 0.5202 - val_loss: 1.6058 - val_acc: 0.5187\n",
      "Epoch 27/80\n",
      "403797/403797 [==============================] - 16s 41us/step - loss: 1.5565 - acc: 0.5283 - val_loss: 1.5832 - val_acc: 0.5257\n",
      "Epoch 28/80\n",
      "403797/403797 [==============================] - 16s 41us/step - loss: 1.5241 - acc: 0.5358 - val_loss: 1.5514 - val_acc: 0.5346\n",
      "Epoch 29/80\n",
      "403797/403797 [==============================] - 16s 41us/step - loss: 1.4935 - acc: 0.5434 - val_loss: 1.5040 - val_acc: 0.5394\n",
      "Epoch 30/80\n",
      "403797/403797 [==============================] - 16s 41us/step - loss: 1.4605 - acc: 0.5512 - val_loss: 1.4805 - val_acc: 0.5461\n",
      "Epoch 31/80\n",
      "403797/403797 [==============================] - 16s 41us/step - loss: 1.4314 - acc: 0.5583 - val_loss: 1.4224 - val_acc: 0.5607\n",
      "Epoch 32/80\n",
      "403797/403797 [==============================] - 16s 41us/step - loss: 1.3993 - acc: 0.5666 - val_loss: 1.4472 - val_acc: 0.5537\n",
      "Epoch 33/80\n",
      "403797/403797 [==============================] - 16s 41us/step - loss: 1.3755 - acc: 0.5721 - val_loss: 1.4019 - val_acc: 0.5629\n",
      "Epoch 34/80\n",
      "403797/403797 [==============================] - 16s 41us/step - loss: 1.3488 - acc: 0.5780 - val_loss: 1.4071 - val_acc: 0.5638\n",
      "Epoch 35/80\n",
      "403797/403797 [==============================] - 16s 41us/step - loss: 1.3234 - acc: 0.5852 - val_loss: 1.3253 - val_acc: 0.5923\n",
      "Epoch 36/80\n",
      "403797/403797 [==============================] - 16s 41us/step - loss: 1.2941 - acc: 0.5922 - val_loss: 1.3248 - val_acc: 0.5861\n",
      "Epoch 37/80\n",
      "403797/403797 [==============================] - 16s 41us/step - loss: 1.2771 - acc: 0.5973 - val_loss: 1.2997 - val_acc: 0.5919\n",
      "Epoch 38/80\n",
      "403797/403797 [==============================] - 16s 41us/step - loss: 1.2513 - acc: 0.6039 - val_loss: 1.2543 - val_acc: 0.6077\n",
      "Epoch 39/80\n",
      "403797/403797 [==============================] - 16s 41us/step - loss: 1.2268 - acc: 0.6099 - val_loss: 1.2452 - val_acc: 0.6043\n",
      "Epoch 40/80\n",
      "403797/403797 [==============================] - 16s 41us/step - loss: 1.2078 - acc: 0.6150 - val_loss: 1.2109 - val_acc: 0.6132\n",
      "Epoch 41/80\n",
      "403797/403797 [==============================] - 16s 41us/step - loss: 1.1813 - acc: 0.6224 - val_loss: 1.2022 - val_acc: 0.6129\n",
      "Epoch 42/80\n",
      "403797/403797 [==============================] - 16s 41us/step - loss: 1.1665 - acc: 0.6265 - val_loss: 1.1580 - val_acc: 0.6292\n",
      "Epoch 43/80\n",
      "403797/403797 [==============================] - 16s 41us/step - loss: 1.1441 - acc: 0.6324 - val_loss: 1.1837 - val_acc: 0.6158\n",
      "Epoch 44/80\n",
      "403797/403797 [==============================] - 16s 41us/step - loss: 1.1290 - acc: 0.6364 - val_loss: 1.1441 - val_acc: 0.6331\n",
      "Epoch 45/80\n",
      "403797/403797 [==============================] - 16s 41us/step - loss: 1.1083 - acc: 0.6419 - val_loss: 1.1339 - val_acc: 0.6459\n",
      "Epoch 46/80\n",
      "403797/403797 [==============================] - 16s 41us/step - loss: 1.0877 - acc: 0.6481 - val_loss: 1.1294 - val_acc: 0.6383\n",
      "Epoch 47/80\n",
      "403797/403797 [==============================] - 16s 41us/step - loss: 1.0695 - acc: 0.6524 - val_loss: 1.0940 - val_acc: 0.6447\n",
      "Epoch 48/80\n",
      "403797/403797 [==============================] - 16s 41us/step - loss: 1.0521 - acc: 0.6580 - val_loss: 1.0435 - val_acc: 0.6639\n",
      "Epoch 49/80\n",
      "403797/403797 [==============================] - 16s 41us/step - loss: 1.0384 - acc: 0.6610 - val_loss: 1.0476 - val_acc: 0.6663\n",
      "Epoch 50/80\n",
      "403797/403797 [==============================] - 16s 40us/step - loss: 1.0226 - acc: 0.6661 - val_loss: 1.0598 - val_acc: 0.6564\n",
      "Epoch 51/80\n",
      "403797/403797 [==============================] - 16s 41us/step - loss: 1.0104 - acc: 0.6692 - val_loss: 1.0360 - val_acc: 0.6549\n",
      "Epoch 52/80\n",
      "403797/403797 [==============================] - 16s 41us/step - loss: 0.9905 - acc: 0.6757 - val_loss: 1.0105 - val_acc: 0.6733\n",
      "Epoch 53/80\n",
      "403797/403797 [==============================] - 16s 41us/step - loss: 0.9762 - acc: 0.6785 - val_loss: 0.9960 - val_acc: 0.6749\n",
      "Epoch 54/80\n",
      "403797/403797 [==============================] - 16s 41us/step - loss: 0.9652 - acc: 0.6827 - val_loss: 1.0048 - val_acc: 0.6645\n",
      "Epoch 55/80\n",
      "403797/403797 [==============================] - 16s 41us/step - loss: 0.9500 - acc: 0.6876 - val_loss: 0.9727 - val_acc: 0.6811\n",
      "Epoch 56/80\n",
      "403797/403797 [==============================] - 16s 41us/step - loss: 0.9337 - acc: 0.6916 - val_loss: 0.9720 - val_acc: 0.6789\n",
      "Epoch 57/80\n",
      "403797/403797 [==============================] - 16s 41us/step - loss: 0.9226 - acc: 0.6948 - val_loss: 0.9337 - val_acc: 0.6949\n",
      "Epoch 58/80\n",
      "403797/403797 [==============================] - 16s 41us/step - loss: 0.9050 - acc: 0.7006 - val_loss: 0.9357 - val_acc: 0.6917\n",
      "Epoch 59/80\n",
      "403797/403797 [==============================] - 16s 41us/step - loss: 0.8981 - acc: 0.7018 - val_loss: 0.9306 - val_acc: 0.6936\n",
      "Epoch 60/80\n",
      "403797/403797 [==============================] - 16s 41us/step - loss: 0.8871 - acc: 0.7056 - val_loss: 0.8964 - val_acc: 0.7032\n",
      "Epoch 61/80\n",
      "403797/403797 [==============================] - 16s 41us/step - loss: 0.8748 - acc: 0.7094 - val_loss: 0.9140 - val_acc: 0.7033\n",
      "Epoch 62/80\n",
      "403797/403797 [==============================] - 16s 41us/step - loss: 0.8626 - acc: 0.7122 - val_loss: 0.8757 - val_acc: 0.7116\n",
      "Epoch 63/80\n",
      "403797/403797 [==============================] - 16s 41us/step - loss: 0.8510 - acc: 0.7166 - val_loss: 0.8927 - val_acc: 0.7009\n",
      "Epoch 64/80\n",
      "403797/403797 [==============================] - 16s 41us/step - loss: 0.8423 - acc: 0.7197 - val_loss: 0.8756 - val_acc: 0.7072\n",
      "Epoch 65/80\n",
      "403797/403797 [==============================] - 16s 41us/step - loss: 0.8289 - acc: 0.7239 - val_loss: 0.8676 - val_acc: 0.7085\n",
      "Epoch 66/80\n",
      "403797/403797 [==============================] - 16s 41us/step - loss: 0.8198 - acc: 0.7260 - val_loss: 0.8430 - val_acc: 0.7195\n",
      "Epoch 67/80\n",
      "403797/403797 [==============================] - 16s 41us/step - loss: 0.8091 - acc: 0.7303 - val_loss: 0.8098 - val_acc: 0.7318\n",
      "Epoch 68/80\n",
      "403797/403797 [==============================] - 16s 41us/step - loss: 0.7962 - acc: 0.7336 - val_loss: 0.8386 - val_acc: 0.7186\n",
      "Epoch 69/80\n",
      "403797/403797 [==============================] - 16s 41us/step - loss: 0.7885 - acc: 0.7349 - val_loss: 0.7889 - val_acc: 0.7426\n",
      "Epoch 70/80\n",
      "403797/403797 [==============================] - 16s 41us/step - loss: 0.7775 - acc: 0.7399 - val_loss: 0.8240 - val_acc: 0.7220\n",
      "Epoch 71/80\n",
      "403797/403797 [==============================] - 16s 40us/step - loss: 0.7695 - acc: 0.7426 - val_loss: 0.7813 - val_acc: 0.7453\n",
      "Epoch 72/80\n",
      "403797/403797 [==============================] - 16s 41us/step - loss: 0.7633 - acc: 0.7444 - val_loss: 0.7925 - val_acc: 0.7362\n",
      "Epoch 73/80\n",
      "403797/403797 [==============================] - 16s 41us/step - loss: 0.7552 - acc: 0.7467 - val_loss: 0.7433 - val_acc: 0.7502\n",
      "Epoch 74/80\n",
      "403797/403797 [==============================] - 16s 41us/step - loss: 0.7444 - acc: 0.7503 - val_loss: 0.8112 - val_acc: 0.7253\n",
      "Epoch 75/80\n",
      "403797/403797 [==============================] - 16s 41us/step - loss: 0.7333 - acc: 0.7529 - val_loss: 0.7422 - val_acc: 0.7437\n",
      "Epoch 76/80\n",
      "403797/403797 [==============================] - 16s 41us/step - loss: 0.7242 - acc: 0.7563 - val_loss: 0.7320 - val_acc: 0.7576\n",
      "Epoch 77/80\n",
      "403797/403797 [==============================] - 16s 41us/step - loss: 0.7232 - acc: 0.7564 - val_loss: 0.7218 - val_acc: 0.7549\n",
      "Epoch 78/80\n",
      "403797/403797 [==============================] - 16s 40us/step - loss: 0.7103 - acc: 0.7608 - val_loss: 0.7536 - val_acc: 0.7486\n",
      "Epoch 79/80\n",
      "403797/403797 [==============================] - 16s 41us/step - loss: 0.7037 - acc: 0.7619 - val_loss: 0.7141 - val_acc: 0.7625\n",
      "Epoch 80/80\n",
      "403797/403797 [==============================] - 16s 41us/step - loss: 0.6960 - acc: 0.7649 - val_loss: 0.6972 - val_acc: 0.7685\n",
      "Training is done!\n"
     ]
    }
   ],
   "source": [
    "opt = keras.optimizers.Adam(lr=0.0001, beta_1=0.9, beta_2=0.999, epsilon=None, decay=0.0, amsgrad=False)\n",
    "model.compile(loss='categorical_crossentropy',\n",
    "              optimizer=opt,\n",
    "              metrics=['accuracy'])\n",
    "\n",
    "model.summary()\n",
    "X_train = X_train.astype('float32')\n",
    "X_test = X_test.astype('float32')\n",
    "\n",
    "model.fit(X_train, Y_train,\n",
    "              batch_size=BATCH_SIZE,\n",
    "              epochs=EPOCHS,\n",
    "              validation_data=(X_test, Y_test),\n",
    "              shuffle=True)\n",
    "\n",
    "model.save(r\"floyd_model_xxl_data_ver3.h5\")\n",
    "print('Training is done!')"
   ]
  }
 ],
 "metadata": {
  "colab": {
   "default_view": {},
   "name": "keras-wide-deep.ipynb",
   "provenance": [],
   "version": "0.3.2",
   "views": {}
  },
  "kernelspec": {
   "display_name": "Python 3",
   "language": "python",
   "name": "python3"
  },
  "language_info": {
   "codemirror_mode": {
    "name": "ipython",
    "version": 3
   },
   "file_extension": ".py",
   "mimetype": "text/x-python",
   "name": "python",
   "nbconvert_exporter": "python",
   "pygments_lexer": "ipython3",
   "version": "3.6.5"
  }
 },
 "nbformat": 4,
 "nbformat_minor": 2
}
