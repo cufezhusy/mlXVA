{
 "cells": [
  {
   "cell_type": "markdown",
   "metadata": {},
   "source": []
  },
  {
   "cell_type": "markdown",
   "metadata": {},
   "source": [
    "## Initial Setup"
   ]
  },
  {
   "cell_type": "code",
   "execution_count": 1,
   "metadata": {
    "colab": {
     "autoexec": {
      "startup": false,
      "wait_interval": 0.0
     },
     "height": 321.0,
     "output_extras": [
      {
       "item_id": 1.0
      }
     ]
    },
    "colab_type": "code",
    "executionInfo": {
     "elapsed": 2880.0,
     "status": "error",
     "timestamp": 1.505781339378E12,
     "user": {
      "displayName": "Sara Robinson",
      "photoUrl": "//lh4.googleusercontent.com/-RR9n0dvbwgI/AAAAAAAAAAI/AAAAAAAAMYM/SOr5ZExpvXE/s50-c-k-no/photo.jpg",
      "userId": "112510032804989247452"
     },
     "user_tz": 240.0
    },
    "id": "783h64rGhA3T",
    "outputId": "d447b2ab-e321-4ee5-abd4-de2c0116302f"
   },
   "outputs": [
    {
     "name": "stderr",
     "output_type": "stream",
     "text": [
      "Using TensorFlow backend.\n"
     ]
    }
   ],
   "source": [
    "from __future__ import absolute_import\n",
    "from __future__ import division\n",
    "from __future__ import print_function\n",
    "\n",
    "import itertools\n",
    "import os\n",
    "import math\n",
    "import string\n",
    "import re\n",
    "import numpy as np\n",
    "import pandas as pd\n",
    "import tensorflow as tf\n",
    "import matplotlib.pyplot as plt\n",
    "import helper\n",
    "import pickle\n",
    "\n",
    "import keras\n",
    "from keras.models import Sequential\n",
    "from keras.layers import Dense, Dropout, Activation, Flatten\n",
    "from keras.layers import Conv2D, MaxPooling2D,Conv1D,MaxPooling1D\n",
    "\n",
    "layers = keras.layers"
   ]
  },
  {
   "cell_type": "markdown",
   "metadata": {},
   "source": [
    "## Training Parameters\n",
    "\n",
    "We'll set the hyperparameters for training our model. If you understand what they mean, feel free to play around - otherwise, we recommend keeping the defaults for your first run 🙂"
   ]
  },
  {
   "cell_type": "code",
   "execution_count": 2,
   "metadata": {},
   "outputs": [
    {
     "name": "stdout",
     "output_type": "stream",
     "text": [
      "---- We are using GPU now ----\n"
     ]
    }
   ],
   "source": [
    "# Hyperparams if GPU is available\n",
    "if tf.test.is_gpu_available():\n",
    "    print('---- We are using GPU now ----')\n",
    "    # GPU\n",
    "    BATCH_SIZE = 512  # Number of examples used in each iteration\n",
    "    EPOCHS = 800  # Number of passes through entire dataset\n",
    "    \n",
    "# Hyperparams for CPU training\n",
    "else:\n",
    "    print('---- We are using CPU now ----')\n",
    "    # CPU\n",
    "    BATCH_SIZE = 256\n",
    "    EPOCHS = 40"
   ]
  },
  {
   "cell_type": "markdown",
   "metadata": {},
   "source": [
    "## Data\n",
    "\n",
    "The wine reviews dataset is already attached to your workspace (if you want to attach your own data, [check out our docs](https://docs.floydhub.com/guides/workspace/#attaching-floydhub-datasets)).\n",
    "\n",
    "Let's take a look at data."
   ]
  },
  {
   "cell_type": "code",
   "execution_count": 3,
   "metadata": {},
   "outputs": [
    {
     "name": "stdout",
     "output_type": "stream",
     "text": [
      "Size of X :(412038, 240, 1)\n",
      "Size of Y :(412038,)\n"
     ]
    }
   ],
   "source": [
    "data_path = '/floyd/input/gengduoshuju/'  # ADD path/to/dataset\n",
    "Y= pickle.load( open(os.path.join(data_path,'Y.pks'), \"rb\" ) )\n",
    "X= pickle.load( open(os.path.join(data_path,'X.pks'), \"rb\" ) )\n",
    "X = X.reshape((X.shape[0],X.shape[1],1))\n",
    "print(\"Size of X :\" + str(X.shape))\n",
    "print(\"Size of Y :\" + str(Y.shape))\n",
    "X = X.astype(np.float64)\n",
    "X = np.nan_to_num(X)"
   ]
  },
  {
   "cell_type": "markdown",
   "metadata": {},
   "source": [
    "## Data Preprocessing"
   ]
  },
  {
   "cell_type": "code",
   "execution_count": 4,
   "metadata": {},
   "outputs": [],
   "source": []
  },
  {
   "cell_type": "code",
   "execution_count": 4,
   "metadata": {},
   "outputs": [
    {
     "name": "stdout",
     "output_type": "stream",
     "text": [
      "0.0\n",
      "331.0\n",
      "number of training examples = 403797\n",
      "number of test examples = 8241\n",
      "X_train shape: (403797, 240, 1)\n",
      "Y_train shape: (403797, 332)\n",
      "X_test shape: (8241, 240, 1)\n",
      "Y_test shape: (8241, 332)\n"
     ]
    }
   ],
   "source": [
    "X_train,  X_test, Y_train_orig,Y_test_orig= helper.divide_data(X,Y)\n",
    "print(Y.min())\n",
    "print(Y.max())\n",
    "num_classes = 332\n",
    "Y_train = keras.utils.to_categorical(Y_train_orig, num_classes)\n",
    "Y_test = keras.utils.to_categorical(Y_test_orig, num_classes)\n",
    "print(\"number of training examples = \" + str(X_train.shape[0]))\n",
    "print(\"number of test examples = \" + str(X_test.shape[0]))\n",
    "print(\"X_train shape: \" + str(X_train.shape))\n",
    "print(\"Y_train shape: \" + str(Y_train.shape))\n",
    "print(\"X_test shape: \" + str(X_test.shape))\n",
    "print(\"Y_test shape: \" + str(Y_test.shape))"
   ]
  },
  {
   "cell_type": "code",
   "execution_count": 6,
   "metadata": {},
   "outputs": [],
   "source": []
  },
  {
   "cell_type": "code",
   "execution_count": 5,
   "metadata": {},
   "outputs": [
    {
     "name": "stdout",
     "output_type": "stream",
     "text": [
      "(240, 1)\n"
     ]
    }
   ],
   "source": [
    "input_shape = X_train.shape[1:]\n",
    "print(input_shape)"
   ]
  },
  {
   "cell_type": "markdown",
   "metadata": {},
   "source": [
    "# Model definition"
   ]
  },
  {
   "cell_type": "markdown",
   "metadata": {},
   "source": [
    "The *Tokens per sentence* plot (see above) is useful for setting the `MAX_LEN` training hyperparameter."
   ]
  },
  {
   "cell_type": "code",
   "execution_count": 6,
   "metadata": {},
   "outputs": [
    {
     "name": "stdout",
     "output_type": "stream",
     "text": [
      "(None, 240, 16)\n",
      "(None, 240, 16)\n",
      "(None, 120, 16)\n",
      "(None, 120, 32)\n",
      "(None, 60, 32)\n",
      "(None, 60, 64)\n",
      "(None, 30, 64)\n",
      "(None, 15, 32)\n",
      "(None, 8, 32)\n"
     ]
    }
   ],
   "source": [
    "# ===================================================================================\n",
    "# Model definition part\n",
    "# ===================================================================================\n",
    "\n",
    "model = Sequential()\n",
    "model.add(Conv1D(16, 4,padding='same',input_shape=X_train.shape[1:]))\n",
    "print(model.output_shape)\n",
    "model.add(Activation('relu'))\n",
    "print(model.output_shape)\n",
    "model.add(MaxPooling1D(2,padding='same'))\n",
    "print(model.output_shape)\n",
    "model.add(Conv1D(32, 4,padding='same'))\n",
    "print(model.output_shape)\n",
    "model.add(Activation('relu'))\n",
    "model.add(MaxPooling1D(2,padding='same'))\n",
    "print(model.output_shape)\n",
    "model.add(Conv1D(64, 4,padding='same'))\n",
    "print(model.output_shape)\n",
    "model.add(Activation('relu'))\n",
    "model.add(MaxPooling1D(2,padding='same'))\n",
    "model.add(Conv1D(64, 4,padding='same'))\n",
    "print(model.output_shape)\n",
    "model.add(Activation('relu'))\n",
    "model.add(MaxPooling1D(2,padding='same'))\n",
    "model.add(Conv1D(32, 4,padding='same'))\n",
    "print(model.output_shape)\n",
    "model.add(Activation('relu'))\n",
    "model.add(MaxPooling1D(2,padding='same'))\n",
    "print(model.output_shape)\n",
    "model.add(Flatten())\n",
    "model.add(Dense(num_classes))\n",
    "model.add(Activation('softmax'))"
   ]
  },
  {
   "cell_type": "markdown",
   "metadata": {},
   "source": [
    "# Model Training"
   ]
  },
  {
   "cell_type": "code",
   "execution_count": null,
   "metadata": {},
   "outputs": [
    {
     "name": "stdout",
     "output_type": "stream",
     "text": [
      "_________________________________________________________________\n",
      "Layer (type)                 Output Shape              Param #   \n",
      "=================================================================\n",
      "conv1d_1 (Conv1D)            (None, 240, 16)           80        \n",
      "_________________________________________________________________\n",
      "activation_1 (Activation)    (None, 240, 16)           0         \n",
      "_________________________________________________________________\n",
      "max_pooling1d_1 (MaxPooling1 (None, 120, 16)           0         \n",
      "_________________________________________________________________\n",
      "conv1d_2 (Conv1D)            (None, 120, 32)           2080      \n",
      "_________________________________________________________________\n",
      "activation_2 (Activation)    (None, 120, 32)           0         \n",
      "_________________________________________________________________\n",
      "max_pooling1d_2 (MaxPooling1 (None, 60, 32)            0         \n",
      "_________________________________________________________________\n",
      "conv1d_3 (Conv1D)            (None, 60, 64)            8256      \n",
      "_________________________________________________________________\n",
      "activation_3 (Activation)    (None, 60, 64)            0         \n",
      "_________________________________________________________________\n",
      "max_pooling1d_3 (MaxPooling1 (None, 30, 64)            0         \n",
      "_________________________________________________________________\n",
      "conv1d_4 (Conv1D)            (None, 30, 64)            16448     \n",
      "_________________________________________________________________\n",
      "activation_4 (Activation)    (None, 30, 64)            0         \n",
      "_________________________________________________________________\n",
      "max_pooling1d_4 (MaxPooling1 (None, 15, 64)            0         \n",
      "_________________________________________________________________\n",
      "conv1d_5 (Conv1D)            (None, 15, 32)            8224      \n",
      "_________________________________________________________________\n",
      "activation_5 (Activation)    (None, 15, 32)            0         \n",
      "_________________________________________________________________\n",
      "max_pooling1d_5 (MaxPooling1 (None, 8, 32)             0         \n",
      "_________________________________________________________________\n",
      "flatten_1 (Flatten)          (None, 256)               0         \n",
      "_________________________________________________________________\n",
      "dense_1 (Dense)              (None, 332)               85324     \n",
      "_________________________________________________________________\n",
      "activation_6 (Activation)    (None, 332)               0         \n",
      "=================================================================\n",
      "Total params: 120,412\n",
      "Trainable params: 120,412\n",
      "Non-trainable params: 0\n",
      "_________________________________________________________________\n",
      "Train on 403797 samples, validate on 8241 samples\n",
      "Epoch 1/800\n",
      "403797/403797 [==============================] - 19s 46us/step - loss: 5.3767 - acc: 0.0194 - val_loss: 5.0883 - val_acc: 0.0342\n",
      "Epoch 2/800\n",
      "403797/403797 [==============================] - 16s 40us/step - loss: 4.7932 - acc: 0.0569 - val_loss: 4.5570 - val_acc: 0.0785\n",
      "Epoch 3/800\n",
      "403797/403797 [==============================] - 16s 40us/step - loss: 4.3289 - acc: 0.1028 - val_loss: 4.1745 - val_acc: 0.1224\n",
      "Epoch 4/800\n",
      "403797/403797 [==============================] - 16s 40us/step - loss: 3.9929 - acc: 0.1380 - val_loss: 3.8763 - val_acc: 0.1550\n",
      "Epoch 5/800\n",
      "403797/403797 [==============================] - 16s 40us/step - loss: 3.7173 - acc: 0.1710 - val_loss: 3.6361 - val_acc: 0.1759\n",
      "Epoch 6/800\n",
      "403797/403797 [==============================] - 16s 40us/step - loss: 3.4806 - acc: 0.1996 - val_loss: 3.4068 - val_acc: 0.2096\n",
      "Epoch 7/800\n",
      "403797/403797 [==============================] - 16s 40us/step - loss: 3.2699 - acc: 0.2265 - val_loss: 3.1980 - val_acc: 0.2437\n",
      "Epoch 8/800\n",
      "403797/403797 [==============================] - 16s 40us/step - loss: 3.0865 - acc: 0.2519 - val_loss: 3.0250 - val_acc: 0.2668\n",
      "Epoch 9/800\n",
      "403797/403797 [==============================] - 16s 40us/step - loss: 2.9231 - acc: 0.2760 - val_loss: 2.8786 - val_acc: 0.2941\n",
      "Epoch 10/800\n",
      "403797/403797 [==============================] - 16s 40us/step - loss: 2.7814 - acc: 0.2973 - val_loss: 2.7317 - val_acc: 0.3038\n",
      "Epoch 11/800\n",
      "403797/403797 [==============================] - 16s 40us/step - loss: 2.6540 - acc: 0.3176 - val_loss: 2.6238 - val_acc: 0.3216\n",
      "Epoch 12/800\n",
      "403797/403797 [==============================] - 16s 40us/step - loss: 2.5428 - acc: 0.3363 - val_loss: 2.5147 - val_acc: 0.3417\n",
      "Epoch 13/800\n",
      "403797/403797 [==============================] - 16s 40us/step - loss: 2.4417 - acc: 0.3530 - val_loss: 2.4047 - val_acc: 0.3633\n",
      "Epoch 14/800\n",
      "403797/403797 [==============================] - 16s 40us/step - loss: 2.3466 - acc: 0.3695 - val_loss: 2.3253 - val_acc: 0.3686\n",
      "Epoch 15/800\n",
      "403797/403797 [==============================] - 16s 40us/step - loss: 2.2612 - acc: 0.3837 - val_loss: 2.2506 - val_acc: 0.3839\n",
      "Epoch 16/800\n",
      "403797/403797 [==============================] - 16s 40us/step - loss: 2.1863 - acc: 0.3980 - val_loss: 2.1681 - val_acc: 0.4033\n",
      "Epoch 17/800\n",
      "403797/403797 [==============================] - 16s 40us/step - loss: 2.1113 - acc: 0.4120 - val_loss: 2.1141 - val_acc: 0.4168\n",
      "Epoch 18/800\n",
      "403797/403797 [==============================] - 16s 40us/step - loss: 2.0451 - acc: 0.4251 - val_loss: 2.0495 - val_acc: 0.4290\n",
      "Epoch 19/800\n",
      "403797/403797 [==============================] - 16s 40us/step - loss: 1.9847 - acc: 0.4366 - val_loss: 1.9788 - val_acc: 0.4408\n",
      "Epoch 20/800\n",
      "403797/403797 [==============================] - 16s 40us/step - loss: 1.9274 - acc: 0.4486 - val_loss: 1.9409 - val_acc: 0.4480\n",
      "Epoch 21/800\n",
      "403797/403797 [==============================] - 16s 40us/step - loss: 1.8732 - acc: 0.4596 - val_loss: 1.8767 - val_acc: 0.4518\n",
      "Epoch 22/800\n",
      "403797/403797 [==============================] - 16s 40us/step - loss: 1.8217 - acc: 0.4698 - val_loss: 1.8342 - val_acc: 0.4641\n",
      "Epoch 23/800\n",
      "403797/403797 [==============================] - 16s 40us/step - loss: 1.7714 - acc: 0.4809 - val_loss: 1.8106 - val_acc: 0.4722\n",
      "Epoch 24/800\n",
      "403797/403797 [==============================] - 16s 40us/step - loss: 1.7293 - acc: 0.4891 - val_loss: 1.7287 - val_acc: 0.4951\n",
      "Epoch 25/800\n",
      "403797/403797 [==============================] - 16s 40us/step - loss: 1.6823 - acc: 0.5005 - val_loss: 1.7044 - val_acc: 0.5001\n",
      "Epoch 26/800\n",
      "403797/403797 [==============================] - 16s 40us/step - loss: 1.6427 - acc: 0.5083 - val_loss: 1.6376 - val_acc: 0.5103\n",
      "Epoch 27/800\n",
      "403797/403797 [==============================] - 16s 40us/step - loss: 1.6031 - acc: 0.5176 - val_loss: 1.6185 - val_acc: 0.5187\n",
      "Epoch 28/800\n",
      "403797/403797 [==============================] - 16s 40us/step - loss: 1.5652 - acc: 0.5263 - val_loss: 1.5656 - val_acc: 0.5277\n",
      "Epoch 29/800\n",
      "403797/403797 [==============================] - 16s 40us/step - loss: 1.5323 - acc: 0.5336 - val_loss: 1.5434 - val_acc: 0.5299\n",
      "Epoch 30/800\n",
      "403797/403797 [==============================] - 16s 40us/step - loss: 1.4967 - acc: 0.5421 - val_loss: 1.5507 - val_acc: 0.5241\n",
      "Epoch 31/800\n",
      "403797/403797 [==============================] - 16s 40us/step - loss: 1.4614 - acc: 0.5519 - val_loss: 1.5003 - val_acc: 0.5431\n",
      "Epoch 32/800\n",
      "403797/403797 [==============================] - 16s 40us/step - loss: 1.4319 - acc: 0.5579 - val_loss: 1.4824 - val_acc: 0.5530\n",
      "Epoch 33/800\n",
      "403797/403797 [==============================] - 16s 40us/step - loss: 1.4009 - acc: 0.5648 - val_loss: 1.4540 - val_acc: 0.5499\n",
      "Epoch 34/800\n",
      "403797/403797 [==============================] - 16s 40us/step - loss: 1.3734 - acc: 0.5721 - val_loss: 1.4018 - val_acc: 0.5678\n",
      "Epoch 35/800\n",
      "403797/403797 [==============================] - 16s 40us/step - loss: 1.3407 - acc: 0.5801 - val_loss: 1.3554 - val_acc: 0.5789\n",
      "Epoch 36/800\n",
      "403797/403797 [==============================] - 16s 40us/step - loss: 1.3217 - acc: 0.5857 - val_loss: 1.3140 - val_acc: 0.5900\n",
      "Epoch 37/800\n",
      "403797/403797 [==============================] - 16s 40us/step - loss: 1.2904 - acc: 0.5931 - val_loss: 1.3002 - val_acc: 0.5871\n",
      "Epoch 38/800\n",
      "403797/403797 [==============================] - 16s 40us/step - loss: 1.2668 - acc: 0.5989 - val_loss: 1.2766 - val_acc: 0.5917\n",
      "Epoch 39/800\n",
      "403797/403797 [==============================] - 16s 40us/step - loss: 1.2471 - acc: 0.6040 - val_loss: 1.2720 - val_acc: 0.5957\n",
      "Epoch 40/800\n",
      "403797/403797 [==============================] - 16s 40us/step - loss: 1.2223 - acc: 0.6102 - val_loss: 1.2201 - val_acc: 0.6138\n",
      "Epoch 41/800\n",
      "403797/403797 [==============================] - 16s 40us/step - loss: 1.1949 - acc: 0.6178 - val_loss: 1.2556 - val_acc: 0.6071\n",
      "Epoch 42/800\n",
      "403797/403797 [==============================] - 16s 40us/step - loss: 1.1766 - acc: 0.6228 - val_loss: 1.2219 - val_acc: 0.6156\n",
      "Epoch 43/800\n",
      "403797/403797 [==============================] - 16s 40us/step - loss: 1.1581 - acc: 0.6277 - val_loss: 1.1731 - val_acc: 0.6260\n",
      "Epoch 44/800\n",
      "403797/403797 [==============================] - 16s 40us/step - loss: 1.1357 - acc: 0.6334 - val_loss: 1.1687 - val_acc: 0.6284\n",
      "Epoch 45/800\n",
      "403797/403797 [==============================] - 16s 40us/step - loss: 1.1138 - acc: 0.6397 - val_loss: 1.1589 - val_acc: 0.6265\n",
      "Epoch 46/800\n",
      "403797/403797 [==============================] - 16s 40us/step - loss: 1.0972 - acc: 0.6450 - val_loss: 1.1060 - val_acc: 0.6503\n",
      "Epoch 47/800\n",
      "403797/403797 [==============================] - 16s 40us/step - loss: 1.0808 - acc: 0.6492 - val_loss: 1.1076 - val_acc: 0.6447\n",
      "Epoch 48/800\n",
      "403797/403797 [==============================] - 16s 40us/step - loss: 1.0612 - acc: 0.6544 - val_loss: 1.0904 - val_acc: 0.6434\n",
      "Epoch 49/800\n",
      "403797/403797 [==============================] - 16s 40us/step - loss: 1.0435 - acc: 0.6592 - val_loss: 1.0736 - val_acc: 0.6574\n",
      "Epoch 50/800\n",
      "403797/403797 [==============================] - 16s 40us/step - loss: 1.0267 - acc: 0.6646 - val_loss: 1.0387 - val_acc: 0.6641\n",
      "Epoch 51/800\n",
      "403797/403797 [==============================] - 16s 40us/step - loss: 1.0097 - acc: 0.6679 - val_loss: 1.0417 - val_acc: 0.6614\n",
      "Epoch 52/800\n",
      "403797/403797 [==============================] - 16s 40us/step - loss: 0.9935 - acc: 0.6733 - val_loss: 1.0236 - val_acc: 0.6573\n",
      "Epoch 53/800\n",
      "403797/403797 [==============================] - 16s 40us/step - loss: 0.9817 - acc: 0.6767 - val_loss: 1.0401 - val_acc: 0.6622\n",
      "Epoch 54/800\n",
      "403797/403797 [==============================] - 16s 40us/step - loss: 0.9638 - acc: 0.6821 - val_loss: 1.0091 - val_acc: 0.6697\n",
      "Epoch 55/800\n",
      "403797/403797 [==============================] - 16s 40us/step - loss: 0.9522 - acc: 0.6851 - val_loss: 0.9870 - val_acc: 0.6783\n",
      "Epoch 56/800\n",
      "403797/403797 [==============================] - 16s 40us/step - loss: 0.9356 - acc: 0.6896 - val_loss: 0.9521 - val_acc: 0.6840\n",
      "Epoch 57/800\n",
      "403797/403797 [==============================] - 16s 40us/step - loss: 0.9240 - acc: 0.6926 - val_loss: 0.9777 - val_acc: 0.6806\n",
      "Epoch 58/800\n",
      "403797/403797 [==============================] - 16s 40us/step - loss: 0.9105 - acc: 0.6967 - val_loss: 0.9310 - val_acc: 0.6894\n",
      "Epoch 59/800\n",
      "403797/403797 [==============================] - 16s 40us/step - loss: 0.8963 - acc: 0.7017 - val_loss: 0.9213 - val_acc: 0.6924\n",
      "Epoch 60/800\n",
      "403797/403797 [==============================] - 16s 40us/step - loss: 0.8843 - acc: 0.7050 - val_loss: 0.8989 - val_acc: 0.6957\n",
      "Epoch 61/800\n",
      "403797/403797 [==============================] - 16s 40us/step - loss: 0.8739 - acc: 0.7086 - val_loss: 1.0117 - val_acc: 0.6562\n",
      "Epoch 62/800\n",
      "403797/403797 [==============================] - 16s 40us/step - loss: 0.8610 - acc: 0.7122 - val_loss: 0.8843 - val_acc: 0.7006\n",
      "Epoch 63/800\n",
      "403797/403797 [==============================] - 16s 40us/step - loss: 0.8476 - acc: 0.7166 - val_loss: 0.8587 - val_acc: 0.7120\n",
      "Epoch 64/800\n",
      "403797/403797 [==============================] - 16s 40us/step - loss: 0.8379 - acc: 0.7191 - val_loss: 0.8724 - val_acc: 0.7112\n",
      "Epoch 65/800\n",
      "403797/403797 [==============================] - 16s 40us/step - loss: 0.8247 - acc: 0.7237 - val_loss: 0.8725 - val_acc: 0.7076\n",
      "Epoch 66/800\n",
      "403797/403797 [==============================] - 16s 40us/step - loss: 0.8146 - acc: 0.7264 - val_loss: 0.8159 - val_acc: 0.7335\n",
      "Epoch 67/800\n",
      "403797/403797 [==============================] - 16s 40us/step - loss: 0.8030 - acc: 0.7299 - val_loss: 0.8514 - val_acc: 0.7174\n",
      "Epoch 68/800\n",
      "403797/403797 [==============================] - 16s 40us/step - loss: 0.7978 - acc: 0.7324 - val_loss: 0.8340 - val_acc: 0.7215\n",
      "Epoch 69/800\n",
      "403797/403797 [==============================] - 16s 40us/step - loss: 0.7824 - acc: 0.7364 - val_loss: 0.8133 - val_acc: 0.7224\n",
      "Epoch 70/800\n",
      "403797/403797 [==============================] - 16s 40us/step - loss: 0.7734 - acc: 0.7387 - val_loss: 0.8338 - val_acc: 0.7219\n",
      "Epoch 71/800\n",
      " 54272/403797 [===>..........................] - ETA: 13s - loss: 0.7723 - acc: 0.7386"
     ]
    }
   ],
   "source": [
    "opt = keras.optimizers.Adam(lr=0.0001, beta_1=0.9, beta_2=0.999, epsilon=None, decay=0.0, amsgrad=False)\n",
    "model.compile(loss='categorical_crossentropy',\n",
    "              optimizer=opt,\n",
    "              metrics=['accuracy'])\n",
    "\n",
    "model.summary()\n",
    "X_train = X_train.astype('float32')\n",
    "X_test = X_test.astype('float32')\n",
    "\n",
    "history_try = model.fit(X_train, Y_train,\n",
    "              batch_size=BATCH_SIZE,\n",
    "              epochs=EPOCHS,\n",
    "              validation_data=(X_test, Y_test),\n",
    "              shuffle=True)\n",
    "\n",
    "model.save(r\"floyd_model_xxl_data_v.h5\")\n",
    "print('Training is done!')"
   ]
  },
  {
   "cell_type": "code",
   "execution_count": 17,
   "metadata": {},
   "outputs": [
    {
     "data": {
      "image/png": "[encoded data removed]",
      "text/plain": [
       "<Figure size 432x288 with 1 Axes>"
      ]
     },
     "metadata": {},
     "output_type": "display_data"
    }
   ],
   "source": [
    "# Plot training & validation accuracy values\n",
    "loss = history_try.history['loss']\n",
    "val_loss = history_try.history['val_loss']\n",
    "epochs = range(1, len(loss) + 1)\n",
    "plt.plot(epochs, loss, color='red', label='Training loss')\n",
    "plt.plot(epochs, val_loss, color='green', label='Validation loss')\n",
    "plt.title('Training and validation loss')\n",
    "plt.xlabel('Epochs')\n",
    "plt.ylabel('Loss')\n",
    "plt.legend()\n",
    "plt.show()\n",
    "with open('training_hist.pks','wb') as f:\n",
    "    pickle.dump(history_try.history, f)"
   ]
  }
 ],
 "metadata": {
  "colab": {
   "default_view": {},
   "name": "keras-wide-deep.ipynb",
   "provenance": [],
   "version": "0.3.2",
   "views": {}
  },
  "kernelspec": {
   "display_name": "Python 3",
   "language": "python",
   "name": "python3"
  },
  "language_info": {
   "codemirror_mode": {
    "name": "ipython",
    "version": 3
   },
   "file_extension": ".py",
   "mimetype": "text/x-python",
   "name": "python",
   "nbconvert_exporter": "python",
   "pygments_lexer": "ipython3",
   "version": "3.6.5"
  }
 },
 "nbformat": 4,
 "nbformat_minor": 2
}
